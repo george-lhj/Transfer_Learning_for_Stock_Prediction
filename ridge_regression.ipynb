{
 "cells": [
  {
   "cell_type": "code",
   "execution_count": 1,
   "metadata": {},
   "outputs": [],
   "source": [
    "from sklearn.preprocessing import StandardScaler, OneHotEncoder\n",
    "from sklearn.model_selection import train_test_split\n",
    "from sklearn.linear_model import RidgeClassifier\n",
    "from sklearn.metrics import accuracy_score, classification_report\n",
    "import numpy as np\n",
    "import pandas as pd\n",
    "# hi"
   ]
  },
  {
   "cell_type": "markdown",
   "metadata": {},
   "source": [
    "Loading Data: Note that you may have to change the dataset location based on where you stored it."
   ]
  },
  {
   "cell_type": "code",
   "execution_count": 2,
   "metadata": {},
   "outputs": [],
   "source": [
    "train_data = np.load(\"/Users/runminghuang/Desktop/capstone/Data/X_train.npz\")\n",
    "X_train = train_data[\"X\"]\n",
    "feature_names = train_data[\"feature_names\"]\n",
    "X_train_df = pd.DataFrame(X_train, columns=feature_names)\n",
    "y_train_df = pd.read_csv(\"/Users/runminghuang/Desktop/capstone/Data/y_train.csv\")"
   ]
  },
  {
   "cell_type": "code",
   "execution_count": 3,
   "metadata": {},
   "outputs": [
    {
     "data": {
      "text/plain": [
       "Index(['ID', 'Stock', 'Industry', 'Industry_Group', 'Sub_Industry', 'Sector',\n",
       "       'Start Time', 'End Time', 'Sig_0', 'Sig_1',\n",
       "       ...\n",
       "       'Sig_1453', 'Sig_1454', 'Sig_1455', 'Sig_1456', 'Sig_1457', 'Sig_1458',\n",
       "       'Sig_1459', 'Sig_1460', 'Sig_1461', 'Sig_1462'],\n",
       "      dtype='object', length=1471)"
      ]
     },
     "execution_count": 3,
     "metadata": {},
     "output_type": "execute_result"
    }
   ],
   "source": [
    "X_train_df.columns"
   ]
  },
  {
   "cell_type": "markdown",
   "metadata": {},
   "source": [
    "STEP 2: EXTRACT & MATCH TARGET VALUES (y_train)"
   ]
  },
  {
   "cell_type": "code",
   "execution_count": 4,
   "metadata": {},
   "outputs": [],
   "source": [
    "train_ids = X_train_df[\"ID\"].astype(int)\n",
    "\n",
    "# Convert RET to binary classification\n",
    "y_train_df[\"RET\"] = (y_train_df[\"RET\"] > 0).astype(int)\n",
    "\n",
    "# Create a fast lookup dictionary for {ID: RET}\n",
    "y_dict = dict(zip(y_train_df[\"ID\"], y_train_df[\"RET\"]))\n",
    "y_train = np.array([y_dict.get(stock_id, 0) for stock_id in train_ids])"
   ]
  },
  {
   "cell_type": "markdown",
   "metadata": {},
   "source": [
    "STEP 3: Feature extraction and preprocessing"
   ]
  },
  {
   "cell_type": "code",
   "execution_count": 5,
   "metadata": {},
   "outputs": [],
   "source": [
    "# Drop unnecessary columns:\n",
    "X_train_df.drop(columns=[\"ID\", \"Stock\", \"Industry\", 'Industry_Group', 'Sub_Industry', 'Sector', \"Start Time\", \"End Time\"], inplace=True, errors=\"ignore\")\n",
    "\n",
    "# # Select categorical and one hot encoding\n",
    "# categorical_features = [\"Industry_Group\", \"Sub_Industry\", \"Sector\"]\n",
    "# signature_features = [col for col in X_train_df.columns if \"Sig_\" in col]  # Select only signature features\n",
    "# encoder = OneHotEncoder(handle_unknown=\"ignore\", sparse_output=False)\n",
    "# encoded_cats = encoder.fit_transform(X_train_df[categorical_features])\n",
    "# cat_feature_names = encoder.get_feature_names_out(categorical_features)\n",
    "# encoded_cats_df = pd.DataFrame(encoded_cats, columns=cat_feature_names, index=X_train_df.index)\n",
    "# X_train_df.drop(columns=categorical_features, inplace=True)\n",
    "# X_train_df = pd.concat([X_train_df, encoded_cats_df], axis=1)\n",
    "\n",
    "# Standardize only numerical features (important for Ridge Regression)\n",
    "scaler = StandardScaler()\n",
    "X_scaled = scaler.fit_transform(X_train_df)\n"
   ]
  },
  {
   "cell_type": "markdown",
   "metadata": {},
   "source": [
    "STEP 4: TRAIN/VALIDATE BEFORE TESTING"
   ]
  },
  {
   "cell_type": "code",
   "execution_count": 40,
   "metadata": {},
   "outputs": [],
   "source": [
    "X_train_sub, X_val, y_train_sub, y_val, id_train_sub, id_val = train_test_split(\n",
    "    X_scaled, y_train, train_ids, test_size=0.2, random_state=42\n",
    ")\n",
    "\n",
    "ridge = RidgeClassifier(alpha=2.15443469)\n",
    "ridge.fit(X_train_sub, y_train_sub)\n",
    "\n",
    "# Predict on validation set\n",
    "y_val_pred = ridge.predict(X_val)"
   ]
  },
  {
   "cell_type": "code",
   "execution_count": 41,
   "metadata": {},
   "outputs": [
    {
     "name": "stdout",
     "output_type": "stream",
     "text": [
      "Validation Accuracy: 0.5109\n",
      "              precision    recall  f1-score   support\n",
      "\n",
      "           0       0.51      0.46      0.49     39866\n",
      "           1       0.51      0.56      0.53     39598\n",
      "\n",
      "    accuracy                           0.51     79464\n",
      "   macro avg       0.51      0.51      0.51     79464\n",
      "weighted avg       0.51      0.51      0.51     79464\n",
      "\n"
     ]
    }
   ],
   "source": [
    "accuracy = accuracy_score(y_val, y_val_pred)\n",
    "print(f\"Validation Accuracy: {accuracy:.4f}\")\n",
    "print(classification_report(y_val, y_val_pred))"
   ]
  },
  {
   "cell_type": "code",
   "execution_count": 42,
   "metadata": {},
   "outputs": [
    {
     "name": "stdout",
     "output_type": "stream",
     "text": [
      "            ID  Predicted_RET\n",
      "119251  106278              1\n",
      "96701    26766              1\n",
      "285464  134211              1\n",
      "126266  149857              0\n",
      "87325   146806              1\n"
     ]
    }
   ],
   "source": [
    "val_results = pd.DataFrame({\n",
    "    \"ID\": id_val,\n",
    "    \"Predicted_RET\": y_val_pred\n",
    "})\n",
    "\n",
    "print(val_results.head())"
   ]
  },
  {
   "cell_type": "markdown",
   "metadata": {},
   "source": [
    "Select the best L-2 parameter (alpha) using GridSearch Algo"
   ]
  },
  {
   "cell_type": "code",
   "execution_count": 39,
   "metadata": {},
   "outputs": [
    {
     "name": "stdout",
     "output_type": "stream",
     "text": [
      "Best alpha: 2.154434690031882\n"
     ]
    }
   ],
   "source": [
    "from sklearn.model_selection import GridSearchCV\n",
    "from sklearn.linear_model import RidgeClassifier\n",
    "\n",
    "# 定义超参数搜索范围（对数刻度）\n",
    "param_grid = {\"alpha\": np.logspace(-3, 3, num=10)}\n",
    "\n",
    "# 进行超参数搜索\n",
    "ridge = RidgeClassifier()\n",
    "grid_search = GridSearchCV(ridge, param_grid, cv=5, scoring=\"accuracy\")\n",
    "grid_search.fit(X_train_sub, y_train_sub)\n",
    "\n",
    "# 输出最优 alpha\n",
    "print(\"Best alpha:\", grid_search.best_params_[\"alpha\"])"
   ]
  }
 ],
 "metadata": {
  "kernelspec": {
   "display_name": "Python 3",
   "language": "python",
   "name": "python3"
  },
  "language_info": {
   "codemirror_mode": {
    "name": "ipython",
    "version": 3
   },
   "file_extension": ".py",
   "mimetype": "text/x-python",
   "name": "python",
   "nbconvert_exporter": "python",
   "pygments_lexer": "ipython3",
   "version": "3.11.11"
  }
 },
 "nbformat": 4,
 "nbformat_minor": 2
}
