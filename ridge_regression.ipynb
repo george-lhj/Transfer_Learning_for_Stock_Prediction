{
 "cells": [
  {
   "cell_type": "code",
   "execution_count": 2,
   "metadata": {},
   "outputs": [],
   "source": [
    "from sklearn.preprocessing import StandardScaler, OneHotEncoder\n",
    "from sklearn.model_selection import train_test_split\n",
    "from sklearn.linear_model import RidgeClassifier\n",
    "from sklearn.metrics import accuracy_score, classification_report\n",
    "import numpy as np\n",
    "import pandas as pd"
   ]
  },
  {
   "cell_type": "markdown",
   "metadata": {},
   "source": [
    "Loading Data: Note that you may have to change the dataset location based on where you stored it."
   ]
  },
  {
   "cell_type": "code",
   "execution_count": 3,
   "metadata": {},
   "outputs": [],
   "source": [
    "train_data = np.load(\"X_train.npz\")\n",
    "X_train = train_data[\"X\"]\n",
    "feature_names = train_data[\"feature_names\"]\n",
    "X_train_df = pd.DataFrame(X_train, columns=feature_names)\n",
    "y_train_df = pd.read_csv(\"datasets/y_train.csv\")"
   ]
  },
  {
   "cell_type": "code",
   "execution_count": 4,
   "metadata": {},
   "outputs": [
    {
     "data": {
      "text/plain": [
       "Index(['ID', 'Stock', 'Industry', 'Industry_Group', 'Sub_Industry', 'Sector',\n",
       "       'Start Time', 'End Time', 'Sig_0', 'Sig_1',\n",
       "       ...\n",
       "       'Sig_1453', 'Sig_1454', 'Sig_1455', 'Sig_1456', 'Sig_1457', 'Sig_1458',\n",
       "       'Sig_1459', 'Sig_1460', 'Sig_1461', 'Sig_1462'],\n",
       "      dtype='object', length=1471)"
      ]
     },
     "execution_count": 4,
     "metadata": {},
     "output_type": "execute_result"
    }
   ],
   "source": [
    "X_train_df.columns"
   ]
  },
  {
   "cell_type": "markdown",
   "metadata": {},
   "source": [
    "STEP 2: EXTRACT & MATCH TARGET VALUES (y_train)"
   ]
  },
  {
   "cell_type": "code",
   "execution_count": 5,
   "metadata": {},
   "outputs": [],
   "source": [
    "\n",
    "train_ids = X_train_df[\"ID\"].astype(int)\n",
    "\n",
    "# Convert RET to binary classification\n",
    "y_train_df[\"RET\"] = (y_train_df[\"RET\"] > 0).astype(int)\n",
    "\n",
    "# Create a fast lookup dictionary for {ID: RET}\n",
    "y_dict = dict(zip(y_train_df[\"ID\"], y_train_df[\"RET\"]))\n",
    "y_train = np.array([y_dict.get(stock_id, 0) for stock_id in train_ids])"
   ]
  },
  {
   "cell_type": "markdown",
   "metadata": {},
   "source": [
    "STEP 3: Feature extraction and preprocessing"
   ]
  },
  {
   "cell_type": "code",
   "execution_count": 6,
   "metadata": {},
   "outputs": [
    {
     "name": "stderr",
     "output_type": "stream",
     "text": [
      "/Users/gliu/Library/Python/3.9/lib/python/site-packages/sklearn/preprocessing/_encoders.py:975: FutureWarning: `sparse` was renamed to `sparse_output` in version 1.2 and will be removed in 1.4. `sparse_output` is ignored unless you leave `sparse` to its default value.\n",
      "  warnings.warn(\n"
     ]
    }
   ],
   "source": [
    "# 🏷️ Drop unnecessary columns:\n",
    "X_train_df.drop(columns=[\"ID\", \"Stock\", \"Industry\", \"Start Time\", \"End Time\"], inplace=True, errors=\"ignore\")\n",
    "\n",
    "# 🏷️ Select categorical and one hot encoding\n",
    "categorical_features = [\"Industry_Group\", \"Sub_Industry\", \"Sector\"]\n",
    "signature_features = [col for col in X_train_df.columns if \"Sig_\" in col]  # Select only signature features\n",
    "encoder = OneHotEncoder(handle_unknown=\"ignore\", sparse=False)\n",
    "encoded_cats = encoder.fit_transform(X_train_df[categorical_features])\n",
    "cat_feature_names = encoder.get_feature_names_out(categorical_features)\n",
    "encoded_cats_df = pd.DataFrame(encoded_cats, columns=cat_feature_names, index=X_train_df.index)\n",
    "X_train_df.drop(columns=categorical_features, inplace=True)\n",
    "X_train_df = pd.concat([X_train_df, encoded_cats_df], axis=1)\n",
    "\n",
    "# 🔢 Standardize only numerical features (important for Ridge Regression)\n",
    "scaler = StandardScaler()\n",
    "X_scaled = scaler.fit_transform(X_train_df)\n"
   ]
  },
  {
   "cell_type": "markdown",
   "metadata": {},
   "source": [
    "### 🎯 STEP 4: TRAIN/VALIDATE BEFORE TESTING"
   ]
  },
  {
   "cell_type": "code",
   "execution_count": 7,
   "metadata": {},
   "outputs": [],
   "source": [
    "X_train_sub, X_val, y_train_sub, y_val, id_train_sub, id_val = train_test_split(\n",
    "    X_scaled, y_train, train_ids, test_size=0.2, random_state=42\n",
    ")\n",
    "\n",
    "ridge = RidgeClassifier(alpha=1.0)\n",
    "ridge.fit(X_train_sub, y_train_sub)\n",
    "\n",
    "# 🏹 Predict on validation set\n",
    "y_val_pred = ridge.predict(X_val)"
   ]
  },
  {
   "cell_type": "code",
   "execution_count": 8,
   "metadata": {},
   "outputs": [
    {
     "name": "stdout",
     "output_type": "stream",
     "text": [
      "✅ Validation Accuracy: 0.5121\n",
      "              precision    recall  f1-score   support\n",
      "\n",
      "           0       0.51      0.52      0.52     39866\n",
      "           1       0.51      0.50      0.51     39598\n",
      "\n",
      "    accuracy                           0.51     79464\n",
      "   macro avg       0.51      0.51      0.51     79464\n",
      "weighted avg       0.51      0.51      0.51     79464\n",
      "\n"
     ]
    }
   ],
   "source": [
    "accuracy = accuracy_score(y_val, y_val_pred)\n",
    "print(f\"✅ Validation Accuracy: {accuracy:.4f}\")\n",
    "print(classification_report(y_val, y_val_pred))"
   ]
  },
  {
   "cell_type": "code",
   "execution_count": 9,
   "metadata": {},
   "outputs": [
    {
     "name": "stdout",
     "output_type": "stream",
     "text": [
      "            ID  Predicted_RET\n",
      "119251  106278              1\n",
      "96701    26766              0\n",
      "285464  134211              1\n",
      "126266  149857              0\n",
      "87325   146806              0\n"
     ]
    }
   ],
   "source": [
    "val_results = pd.DataFrame({\n",
    "    \"ID\": id_val,\n",
    "    \"Predicted_RET\": y_val_pred\n",
    "})\n",
    "\n",
    "print(val_results.head())"
   ]
  }
 ],
 "metadata": {
  "kernelspec": {
   "display_name": "Python 3",
   "language": "python",
   "name": "python3"
  },
  "language_info": {
   "codemirror_mode": {
    "name": "ipython",
    "version": 3
   },
   "file_extension": ".py",
   "mimetype": "text/x-python",
   "name": "python",
   "nbconvert_exporter": "python",
   "pygments_lexer": "ipython3",
   "version": "3.9.6"
  }
 },
 "nbformat": 4,
 "nbformat_minor": 2
}
