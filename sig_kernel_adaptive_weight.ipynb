{
 "cells": [
  {
   "cell_type": "code",
   "execution_count": 1,
   "metadata": {},
   "outputs": [
    {
     "name": "stdout",
     "output_type": "stream",
     "text": [
      "加载签名特征数据: ./datasets/sig_data_SP500_w10_o3.parquet\n",
      "识别到 40 个签名特征列\n"
     ]
    },
    {
     "name": "stderr",
     "output_type": "stream",
     "text": [
      "/var/folders/3r/3sqtmq0x51z9_1w597p8dg6w0000gn/T/ipykernel_85160/3310137381.py:61: DeprecationWarning: DataFrameGroupBy.apply operated on the grouping columns. This behavior is deprecated, and in a future version of pandas the grouping columns will be excluded from the operation. Either pass `include_groups=False` to exclude the groupings or explicitly select the grouping columns after groupby to silence this warning.\n",
      "  df = df.groupby('symbol', group_keys=False).apply(compute_weights_for_symbol)\n"
     ]
    },
    {
     "name": "stdout",
     "output_type": "stream",
     "text": [
      "完成权重计算，共处理 480 支股票样本\n",
      "结果已保存至: ./datasets/sig_data_SP500_w10_o3_weighted_gamma0.5.parquet\n"
     ]
    }
   ],
   "source": [
    "import numpy as np\n",
    "import pandas as pd\n",
    "import os\n",
    "\n",
    "def signature_distance(sig_a, sig_b):\n",
    "    \"\"\"计算两个签名向量之间的欧氏距离平方\"\"\"\n",
    "    return np.dot(sig_a, sig_a) - 2 * np.dot(sig_a, sig_b) + np.dot(sig_b, sig_b)\n",
    "\n",
    "def compute_adaptive_weights(time_window=10, order=3, gamma=1.0, \n",
    "                              input_filename='sig_data_SP500', \n",
    "                              save=True):\n",
    "    \"\"\"\n",
    "    加载签名特征数据，计算每只股票的自适应权重，并保存结果。\n",
    "    \n",
    "    参数:\n",
    "    time_window (int): 用于文件路径识别的窗口大小（需与签名计算时一致）\n",
    "    order (int): 签名阶数（需与签名计算时一致）\n",
    "    gamma (float): 权重衰减因子\n",
    "    input_filename (str): 输入文件基础名（不包含后缀）\n",
    "    save (bool): 是否保存带权重的结果\n",
    "    \n",
    "    返回:\n",
    "    pd.DataFrame: 含自适应权重的签名数据\n",
    "    \"\"\"\n",
    "    # 构造输入文件路径\n",
    "    input_path = f\"./datasets/{input_filename}_w{time_window}_o{order}.parquet\"\n",
    "    print(f\"加载签名特征数据: {input_path}\")\n",
    "    \n",
    "    if not os.path.exists(input_path):\n",
    "        raise FileNotFoundError(f\"未找到文件: {input_path}\")\n",
    "    \n",
    "    df = pd.read_parquet(input_path)\n",
    "\n",
    "    # 自动识别签名列\n",
    "    sig_cols = [col for col in df.columns if col.startswith('SIG_')]\n",
    "    print(f\"识别到 {len(sig_cols)} 个签名特征列\")\n",
    "\n",
    "    # 初始化\n",
    "    df = df.sort_values(['symbol', 'date']).copy()\n",
    "    df['adaptive_weight'] = np.nan\n",
    "\n",
    "    def compute_weights_for_symbol(group):\n",
    "        group = group.copy()\n",
    "        if len(group) < 2:\n",
    "            return group\n",
    "        \n",
    "        # 使用最后一行作为参考点\n",
    "        current_sig = group[sig_cols].iloc[-1].values\n",
    "        \n",
    "        distances = group[sig_cols].iloc[:-1].apply(\n",
    "            lambda row: signature_distance(row.values, current_sig),\n",
    "            axis=1\n",
    "        )\n",
    "        exp_weights = np.exp(-gamma * distances)\n",
    "        normalized_weights = exp_weights / exp_weights.sum()\n",
    "        \n",
    "        group.loc[group.index[:-1], 'adaptive_weight'] = normalized_weights.values\n",
    "        return group\n",
    "\n",
    "    # 对每支股票分组计算\n",
    "    df = df.groupby('symbol', group_keys=False).apply(compute_weights_for_symbol)\n",
    "\n",
    "    print(f\"完成权重计算，共处理 {df['symbol'].nunique()} 支股票样本\")\n",
    "\n",
    "    if save:\n",
    "        output_path = f\"./datasets/{input_filename}_w{time_window}_o{order}_weighted_gamma{gamma}.parquet\"\n",
    "        df.to_parquet(output_path, engine='pyarrow', compression='snappy')\n",
    "        print(f\"结果已保存至: {output_path}\")\n",
    "    \n",
    "    return df\n",
    "\n",
    "# 示例调用\n",
    "if __name__ == \"__main__\":\n",
    "    # 请确保这里的参数与 `calc_signature_new()` 使用的一致\n",
    "    weighted_df = compute_adaptive_weights(\n",
    "        time_window=10,\n",
    "        order=3,\n",
    "        gamma=0.5,\n",
    "        input_filename='sig_data_SP500',\n",
    "        save=True\n",
    "    )\n"
   ]
  },
  {
   "cell_type": "code",
   "execution_count": 4,
   "metadata": {},
   "outputs": [
    {
     "name": "stdout",
     "output_type": "stream",
     "text": [
      "Cluster centers shape: (3, 480)\n",
      "Number of clusters: 3\n",
      "Inertia (total within-cluster distance): 253079680.0\n"
     ]
    }
   ],
   "source": [
    "import joblib\n",
    "\n",
    "# Load the model\n",
    "kmeans_model = joblib.load(\"./datasets/kmeans_final.joblib\")\n",
    "\n",
    "# Print basic info\n",
    "print(\"Cluster centers shape:\", kmeans_model.cluster_centers_.shape)\n",
    "print(\"Number of clusters:\", kmeans_model.n_clusters)\n",
    "print(\"Inertia (total within-cluster distance):\", kmeans_model.inertia_)\n",
    "\n",
    "# Access individual attributes\n",
    "labels = kmeans_model.labels_              # Cluster labels for training data\n",
    "centroids = kmeans_model.cluster_centers_  # Cluster centers\n"
   ]
  },
  {
   "cell_type": "code",
   "execution_count": null,
   "metadata": {},
   "outputs": [],
   "source": []
  }
 ],
 "metadata": {
  "kernelspec": {
   "display_name": "Python 3",
   "language": "python",
   "name": "python3"
  },
  "language_info": {
   "codemirror_mode": {
    "name": "ipython",
    "version": 3
   },
   "file_extension": ".py",
   "mimetype": "text/x-python",
   "name": "python",
   "nbconvert_exporter": "python",
   "pygments_lexer": "ipython3",
   "version": "3.9.6"
  }
 },
 "nbformat": 4,
 "nbformat_minor": 2
}
